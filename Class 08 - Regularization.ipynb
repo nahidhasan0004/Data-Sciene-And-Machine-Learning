{
 "cells": [
  {
   "cell_type": "code",
   "execution_count": 1,
   "id": "320707d8",
   "metadata": {
    "executionInfo": {
     "elapsed": 1308,
     "status": "ok",
     "timestamp": 1713890945156,
     "user": {
      "displayName": "Abu Tahim Habiby",
      "userId": "09962589792434038210"
     },
     "user_tz": -360
    },
    "id": "320707d8"
   },
   "outputs": [],
   "source": [
    "import pandas as pd\n",
    "import sklearn\n",
    "from sklearn.linear_model import LinearRegression, Lasso, Ridge\n",
    "from sklearn.model_selection import train_test_split\n",
    "from sklearn.metrics import mean_squared_error"
   ]
  },
  {
   "cell_type": "code",
   "execution_count": 2,
   "id": "fc0J-IS6jBpw",
   "metadata": {
    "colab": {
     "base_uri": "https://localhost:8080/",
     "height": 321
    },
    "executionInfo": {
     "elapsed": 232662,
     "status": "error",
     "timestamp": 1713891177789,
     "user": {
      "displayName": "Abu Tahim Habiby",
      "userId": "09962589792434038210"
     },
     "user_tz": -360
    },
    "id": "fc0J-IS6jBpw",
    "outputId": "6a5d9465-779b-4158-f9ca-7a5351698382"
   },
   "outputs": [],
   "source": [
    "#from google.colab import drive\n",
    "#drive.mount('/content/drive')"
   ]
  },
  {
   "cell_type": "code",
   "execution_count": 3,
   "id": "d0c2237e",
   "metadata": {
    "executionInfo": {
     "elapsed": 24,
     "status": "aborted",
     "timestamp": 1713891177789,
     "user": {
      "displayName": "Abu Tahim Habiby",
      "userId": "09962589792434038210"
     },
     "user_tz": -360
    },
    "id": "d0c2237e"
   },
   "outputs": [
    {
     "data": {
      "text/html": [
       "<div>\n",
       "<style scoped>\n",
       "    .dataframe tbody tr th:only-of-type {\n",
       "        vertical-align: middle;\n",
       "    }\n",
       "\n",
       "    .dataframe tbody tr th {\n",
       "        vertical-align: top;\n",
       "    }\n",
       "\n",
       "    .dataframe thead th {\n",
       "        text-align: right;\n",
       "    }\n",
       "</style>\n",
       "<table border=\"1\" class=\"dataframe\">\n",
       "  <thead>\n",
       "    <tr style=\"text-align: right;\">\n",
       "      <th></th>\n",
       "      <th>Marketing Spend</th>\n",
       "      <th>Administration</th>\n",
       "      <th>Transport</th>\n",
       "      <th>Area</th>\n",
       "      <th>Profit</th>\n",
       "    </tr>\n",
       "  </thead>\n",
       "  <tbody>\n",
       "    <tr>\n",
       "      <th>0</th>\n",
       "      <td>114523.61</td>\n",
       "      <td>136897.80</td>\n",
       "      <td>471784.10</td>\n",
       "      <td>Dhaka</td>\n",
       "      <td>192261.83</td>\n",
       "    </tr>\n",
       "    <tr>\n",
       "      <th>1</th>\n",
       "      <td>162597.70</td>\n",
       "      <td>151377.59</td>\n",
       "      <td>443898.53</td>\n",
       "      <td>Ctg</td>\n",
       "      <td>191792.06</td>\n",
       "    </tr>\n",
       "    <tr>\n",
       "      <th>2</th>\n",
       "      <td>153441.51</td>\n",
       "      <td>101145.55</td>\n",
       "      <td>407934.54</td>\n",
       "      <td>Rangpur</td>\n",
       "      <td>191050.39</td>\n",
       "    </tr>\n",
       "    <tr>\n",
       "      <th>3</th>\n",
       "      <td>144372.41</td>\n",
       "      <td>118671.85</td>\n",
       "      <td>383199.62</td>\n",
       "      <td>Dhaka</td>\n",
       "      <td>182901.99</td>\n",
       "    </tr>\n",
       "    <tr>\n",
       "      <th>4</th>\n",
       "      <td>142107.34</td>\n",
       "      <td>91391.77</td>\n",
       "      <td>366168.42</td>\n",
       "      <td>Rangpur</td>\n",
       "      <td>166187.94</td>\n",
       "    </tr>\n",
       "  </tbody>\n",
       "</table>\n",
       "</div>"
      ],
      "text/plain": [
       "   Marketing Spend  Administration  Transport     Area     Profit\n",
       "0        114523.61       136897.80  471784.10    Dhaka  192261.83\n",
       "1        162597.70       151377.59  443898.53      Ctg  191792.06\n",
       "2        153441.51       101145.55  407934.54  Rangpur  191050.39\n",
       "3        144372.41       118671.85  383199.62    Dhaka  182901.99\n",
       "4        142107.34        91391.77  366168.42  Rangpur  166187.94"
      ]
     },
     "execution_count": 3,
     "metadata": {},
     "output_type": "execute_result"
    }
   ],
   "source": [
    "df = pd.read_csv('supershops.csv')\n",
    "df.head()"
   ]
  },
  {
   "cell_type": "code",
   "execution_count": 4,
   "id": "eec6a8c4",
   "metadata": {
    "executionInfo": {
     "elapsed": 24,
     "status": "aborted",
     "timestamp": 1713891177790,
     "user": {
      "displayName": "Abu Tahim Habiby",
      "userId": "09962589792434038210"
     },
     "user_tz": -360
    },
    "id": "eec6a8c4"
   },
   "outputs": [],
   "source": [
    "df = df.dropna() # remove all nan"
   ]
  },
  {
   "cell_type": "code",
   "execution_count": 5,
   "id": "08342237",
   "metadata": {
    "executionInfo": {
     "elapsed": 24,
     "status": "aborted",
     "timestamp": 1713891177790,
     "user": {
      "displayName": "Abu Tahim Habiby",
      "userId": "09962589792434038210"
     },
     "user_tz": -360
    },
    "id": "08342237"
   },
   "outputs": [],
   "source": [
    "x = df.drop(['Profit','Area'], axis=1)"
   ]
  },
  {
   "cell_type": "code",
   "execution_count": 6,
   "id": "7b177c16",
   "metadata": {
    "executionInfo": {
     "elapsed": 23,
     "status": "aborted",
     "timestamp": 1713891177790,
     "user": {
      "displayName": "Abu Tahim Habiby",
      "userId": "09962589792434038210"
     },
     "user_tz": -360
    },
    "id": "7b177c16"
   },
   "outputs": [
    {
     "data": {
      "text/html": [
       "<div>\n",
       "<style scoped>\n",
       "    .dataframe tbody tr th:only-of-type {\n",
       "        vertical-align: middle;\n",
       "    }\n",
       "\n",
       "    .dataframe tbody tr th {\n",
       "        vertical-align: top;\n",
       "    }\n",
       "\n",
       "    .dataframe thead th {\n",
       "        text-align: right;\n",
       "    }\n",
       "</style>\n",
       "<table border=\"1\" class=\"dataframe\">\n",
       "  <thead>\n",
       "    <tr style=\"text-align: right;\">\n",
       "      <th></th>\n",
       "      <th>Marketing Spend</th>\n",
       "      <th>Administration</th>\n",
       "      <th>Transport</th>\n",
       "    </tr>\n",
       "  </thead>\n",
       "  <tbody>\n",
       "    <tr>\n",
       "      <th>0</th>\n",
       "      <td>114523.61</td>\n",
       "      <td>136897.80</td>\n",
       "      <td>471784.10</td>\n",
       "    </tr>\n",
       "    <tr>\n",
       "      <th>1</th>\n",
       "      <td>162597.70</td>\n",
       "      <td>151377.59</td>\n",
       "      <td>443898.53</td>\n",
       "    </tr>\n",
       "    <tr>\n",
       "      <th>2</th>\n",
       "      <td>153441.51</td>\n",
       "      <td>101145.55</td>\n",
       "      <td>407934.54</td>\n",
       "    </tr>\n",
       "    <tr>\n",
       "      <th>3</th>\n",
       "      <td>144372.41</td>\n",
       "      <td>118671.85</td>\n",
       "      <td>383199.62</td>\n",
       "    </tr>\n",
       "    <tr>\n",
       "      <th>4</th>\n",
       "      <td>142107.34</td>\n",
       "      <td>91391.77</td>\n",
       "      <td>366168.42</td>\n",
       "    </tr>\n",
       "  </tbody>\n",
       "</table>\n",
       "</div>"
      ],
      "text/plain": [
       "   Marketing Spend  Administration  Transport\n",
       "0        114523.61       136897.80  471784.10\n",
       "1        162597.70       151377.59  443898.53\n",
       "2        153441.51       101145.55  407934.54\n",
       "3        144372.41       118671.85  383199.62\n",
       "4        142107.34        91391.77  366168.42"
      ]
     },
     "execution_count": 6,
     "metadata": {},
     "output_type": "execute_result"
    }
   ],
   "source": [
    "x.head()"
   ]
  },
  {
   "cell_type": "code",
   "execution_count": 7,
   "id": "37ee44cb",
   "metadata": {
    "executionInfo": {
     "elapsed": 21,
     "status": "aborted",
     "timestamp": 1713891177790,
     "user": {
      "displayName": "Abu Tahim Habiby",
      "userId": "09962589792434038210"
     },
     "user_tz": -360
    },
    "id": "37ee44cb"
   },
   "outputs": [],
   "source": [
    "y = df[['Profit']]"
   ]
  },
  {
   "cell_type": "code",
   "execution_count": 8,
   "id": "d1c14836",
   "metadata": {
    "executionInfo": {
     "elapsed": 22,
     "status": "aborted",
     "timestamp": 1713891177791,
     "user": {
      "displayName": "Abu Tahim Habiby",
      "userId": "09962589792434038210"
     },
     "user_tz": -360
    },
    "id": "d1c14836"
   },
   "outputs": [],
   "source": [
    "xtrain, xtest, ytrain, ytest = train_test_split(x, y, test_size=0.25, random_state=0)"
   ]
  },
  {
   "cell_type": "code",
   "execution_count": null,
   "id": "564f4dac",
   "metadata": {
    "executionInfo": {
     "elapsed": 21,
     "status": "aborted",
     "timestamp": 1713891177791,
     "user": {
      "displayName": "Abu Tahim Habiby",
      "userId": "09962589792434038210"
     },
     "user_tz": -360
    },
    "id": "564f4dac"
   },
   "outputs": [],
   "source": [
    "xtrain.shape"
   ]
  },
  {
   "cell_type": "code",
   "execution_count": null,
   "id": "660f9178",
   "metadata": {
    "executionInfo": {
     "elapsed": 21,
     "status": "aborted",
     "timestamp": 1713891177791,
     "user": {
      "displayName": "Abu Tahim Habiby",
      "userId": "09962589792434038210"
     },
     "user_tz": -360
    },
    "id": "660f9178"
   },
   "outputs": [],
   "source": [
    "df.corr()"
   ]
  },
  {
   "cell_type": "markdown",
   "id": "f65ba934",
   "metadata": {
    "id": "f65ba934"
   },
   "source": [
    "# OLS"
   ]
  },
  {
   "cell_type": "code",
   "execution_count": 10,
   "id": "1e1ce232",
   "metadata": {
    "executionInfo": {
     "elapsed": 20,
     "status": "aborted",
     "timestamp": 1713891177791,
     "user": {
      "displayName": "Abu Tahim Habiby",
      "userId": "09962589792434038210"
     },
     "user_tz": -360
    },
    "id": "1e1ce232"
   },
   "outputs": [
    {
     "data": {
      "text/plain": [
       "LinearRegression()"
      ]
     },
     "execution_count": 10,
     "metadata": {},
     "output_type": "execute_result"
    }
   ],
   "source": [
    "model = LinearRegression() # polynomial regression with degree 1\n",
    "model.fit(xtrain, ytrain)"
   ]
  },
  {
   "cell_type": "code",
   "execution_count": 11,
   "id": "6494f981",
   "metadata": {
    "executionInfo": {
     "elapsed": 20,
     "status": "aborted",
     "timestamp": 1713891177791,
     "user": {
      "displayName": "Abu Tahim Habiby",
      "userId": "09962589792434038210"
     },
     "user_tz": -360
    },
    "id": "6494f981"
   },
   "outputs": [],
   "source": [
    "y_pred = model.predict(xtest)"
   ]
  },
  {
   "cell_type": "code",
   "execution_count": 12,
   "id": "2b70bcc2",
   "metadata": {
    "executionInfo": {
     "elapsed": 19,
     "status": "aborted",
     "timestamp": 1713891177791,
     "user": {
      "displayName": "Abu Tahim Habiby",
      "userId": "09962589792434038210"
     },
     "user_tz": -360
    },
    "id": "2b70bcc2"
   },
   "outputs": [
    {
     "data": {
      "text/plain": [
       "array([[ 90707.18524202],\n",
       "       [166377.24276987],\n",
       "       [124018.59727829],\n",
       "       [ 93252.51801345],\n",
       "       [ 97588.41924098],\n",
       "       [ 68948.39245538],\n",
       "       [ 89037.14295216],\n",
       "       [ 73472.98068535],\n",
       "       [159657.23912108],\n",
       "       [129149.84623501],\n",
       "       [128674.69774365],\n",
       "       [ 88409.42998689],\n",
       "       [ 96436.18820079]])"
      ]
     },
     "execution_count": 12,
     "metadata": {},
     "output_type": "execute_result"
    }
   ],
   "source": [
    "y_pred"
   ]
  },
  {
   "cell_type": "code",
   "execution_count": 13,
   "id": "a6641218",
   "metadata": {
    "executionInfo": {
     "elapsed": 20,
     "status": "aborted",
     "timestamp": 1713891177792,
     "user": {
      "displayName": "Abu Tahim Habiby",
      "userId": "09962589792434038210"
     },
     "user_tz": -360
    },
    "id": "a6641218"
   },
   "outputs": [
    {
     "name": "stdout",
     "output_type": "stream",
     "text": [
      "MSE: 101360809.28512499\n"
     ]
    }
   ],
   "source": [
    "mse = mean_squared_error(ytest, y_pred)\n",
    "print('MSE:', mse)"
   ]
  },
  {
   "cell_type": "code",
   "execution_count": 14,
   "id": "5e80f5fc",
   "metadata": {
    "executionInfo": {
     "elapsed": 20,
     "status": "aborted",
     "timestamp": 1713891177792,
     "user": {
      "displayName": "Abu Tahim Habiby",
      "userId": "09962589792434038210"
     },
     "user_tz": -360
    },
    "id": "5e80f5fc"
   },
   "outputs": [
    {
     "data": {
      "text/plain": [
       "0.8744319145336102"
      ]
     },
     "execution_count": 14,
     "metadata": {},
     "output_type": "execute_result"
    }
   ],
   "source": [
    "model.score(xtest, ytest)"
   ]
  },
  {
   "cell_type": "markdown",
   "id": "98627b98",
   "metadata": {
    "id": "98627b98"
   },
   "source": [
    "# Polynomial"
   ]
  },
  {
   "cell_type": "code",
   "execution_count": 16,
   "id": "ee3b5046",
   "metadata": {
    "colab": {
     "base_uri": "https://localhost:8080/",
     "height": 141
    },
    "executionInfo": {
     "elapsed": 490,
     "status": "error",
     "timestamp": 1713891833392,
     "user": {
      "displayName": "Abu Tahim Habiby",
      "userId": "09962589792434038210"
     },
     "user_tz": -360
    },
    "id": "ee3b5046",
    "outputId": "7da05065-b7a4-4829-e739-cabaeaddcd37"
   },
   "outputs": [
    {
     "data": {
      "text/html": [
       "<div>\n",
       "<style scoped>\n",
       "    .dataframe tbody tr th:only-of-type {\n",
       "        vertical-align: middle;\n",
       "    }\n",
       "\n",
       "    .dataframe tbody tr th {\n",
       "        vertical-align: top;\n",
       "    }\n",
       "\n",
       "    .dataframe thead th {\n",
       "        text-align: right;\n",
       "    }\n",
       "</style>\n",
       "<table border=\"1\" class=\"dataframe\">\n",
       "  <thead>\n",
       "    <tr style=\"text-align: right;\">\n",
       "      <th></th>\n",
       "      <th>Marketing Spend</th>\n",
       "      <th>Administration</th>\n",
       "      <th>Transport</th>\n",
       "      <th>Profit</th>\n",
       "    </tr>\n",
       "  </thead>\n",
       "  <tbody>\n",
       "    <tr>\n",
       "      <th>Marketing Spend</th>\n",
       "      <td>1.000000</td>\n",
       "      <td>0.227141</td>\n",
       "      <td>0.718574</td>\n",
       "      <td>0.937853</td>\n",
       "    </tr>\n",
       "    <tr>\n",
       "      <th>Administration</th>\n",
       "      <td>0.227141</td>\n",
       "      <td>1.000000</td>\n",
       "      <td>0.009534</td>\n",
       "      <td>0.197201</td>\n",
       "    </tr>\n",
       "    <tr>\n",
       "      <th>Transport</th>\n",
       "      <td>0.718574</td>\n",
       "      <td>0.009534</td>\n",
       "      <td>1.000000</td>\n",
       "      <td>0.782578</td>\n",
       "    </tr>\n",
       "    <tr>\n",
       "      <th>Profit</th>\n",
       "      <td>0.937853</td>\n",
       "      <td>0.197201</td>\n",
       "      <td>0.782578</td>\n",
       "      <td>1.000000</td>\n",
       "    </tr>\n",
       "  </tbody>\n",
       "</table>\n",
       "</div>"
      ],
      "text/plain": [
       "                 Marketing Spend  Administration  Transport    Profit\n",
       "Marketing Spend         1.000000        0.227141   0.718574  0.937853\n",
       "Administration          0.227141        1.000000   0.009534  0.197201\n",
       "Transport               0.718574        0.009534   1.000000  0.782578\n",
       "Profit                  0.937853        0.197201   0.782578  1.000000"
      ]
     },
     "execution_count": 16,
     "metadata": {},
     "output_type": "execute_result"
    }
   ],
   "source": [
    "df.corr()"
   ]
  },
  {
   "cell_type": "code",
   "execution_count": 17,
   "id": "8e4aed21",
   "metadata": {
    "executionInfo": {
     "elapsed": 19,
     "status": "aborted",
     "timestamp": 1713891177792,
     "user": {
      "displayName": "Abu Tahim Habiby",
      "userId": "09962589792434038210"
     },
     "user_tz": -360
    },
    "id": "8e4aed21"
   },
   "outputs": [],
   "source": [
    "from sklearn.preprocessing import PolynomialFeatures"
   ]
  },
  {
   "cell_type": "code",
   "execution_count": 18,
   "id": "be4541dd",
   "metadata": {
    "executionInfo": {
     "elapsed": 18,
     "status": "aborted",
     "timestamp": 1713891177792,
     "user": {
      "displayName": "Abu Tahim Habiby",
      "userId": "09962589792434038210"
     },
     "user_tz": -360
    },
    "id": "be4541dd"
   },
   "outputs": [
    {
     "data": {
      "text/html": [
       "<div>\n",
       "<style scoped>\n",
       "    .dataframe tbody tr th:only-of-type {\n",
       "        vertical-align: middle;\n",
       "    }\n",
       "\n",
       "    .dataframe tbody tr th {\n",
       "        vertical-align: top;\n",
       "    }\n",
       "\n",
       "    .dataframe thead th {\n",
       "        text-align: right;\n",
       "    }\n",
       "</style>\n",
       "<table border=\"1\" class=\"dataframe\">\n",
       "  <thead>\n",
       "    <tr style=\"text-align: right;\">\n",
       "      <th></th>\n",
       "      <th>Marketing Spend</th>\n",
       "      <th>Administration</th>\n",
       "      <th>Transport</th>\n",
       "    </tr>\n",
       "  </thead>\n",
       "  <tbody>\n",
       "    <tr>\n",
       "      <th>0</th>\n",
       "      <td>114523.61</td>\n",
       "      <td>136897.80</td>\n",
       "      <td>471784.10</td>\n",
       "    </tr>\n",
       "    <tr>\n",
       "      <th>1</th>\n",
       "      <td>162597.70</td>\n",
       "      <td>151377.59</td>\n",
       "      <td>443898.53</td>\n",
       "    </tr>\n",
       "    <tr>\n",
       "      <th>2</th>\n",
       "      <td>153441.51</td>\n",
       "      <td>101145.55</td>\n",
       "      <td>407934.54</td>\n",
       "    </tr>\n",
       "    <tr>\n",
       "      <th>3</th>\n",
       "      <td>144372.41</td>\n",
       "      <td>118671.85</td>\n",
       "      <td>383199.62</td>\n",
       "    </tr>\n",
       "    <tr>\n",
       "      <th>4</th>\n",
       "      <td>142107.34</td>\n",
       "      <td>91391.77</td>\n",
       "      <td>366168.42</td>\n",
       "    </tr>\n",
       "  </tbody>\n",
       "</table>\n",
       "</div>"
      ],
      "text/plain": [
       "   Marketing Spend  Administration  Transport\n",
       "0        114523.61       136897.80  471784.10\n",
       "1        162597.70       151377.59  443898.53\n",
       "2        153441.51       101145.55  407934.54\n",
       "3        144372.41       118671.85  383199.62\n",
       "4        142107.34        91391.77  366168.42"
      ]
     },
     "execution_count": 18,
     "metadata": {},
     "output_type": "execute_result"
    }
   ],
   "source": [
    "x.head()"
   ]
  },
  {
   "cell_type": "markdown",
   "id": "f90cc84d",
   "metadata": {
    "id": "f90cc84d"
   },
   "source": [
    "# Degree 2"
   ]
  },
  {
   "cell_type": "code",
   "execution_count": null,
   "id": "c916236a",
   "metadata": {
    "executionInfo": {
     "elapsed": 18,
     "status": "aborted",
     "timestamp": 1713891177792,
     "user": {
      "displayName": "Abu Tahim Habiby",
      "userId": "09962589792434038210"
     },
     "user_tz": -360
    },
    "id": "c916236a"
   },
   "outputs": [],
   "source": [
    "poly = PolynomialFeatures(degree=2) # polynomial regression with degree 2\n",
    "X_poly = poly.fit_transform(x)"
   ]
  },
  {
   "cell_type": "code",
   "execution_count": null,
   "id": "ddb918cb",
   "metadata": {
    "executionInfo": {
     "elapsed": 17,
     "status": "aborted",
     "timestamp": 1713891177792,
     "user": {
      "displayName": "Abu Tahim Habiby",
      "userId": "09962589792434038210"
     },
     "user_tz": -360
    },
    "id": "ddb918cb"
   },
   "outputs": [],
   "source": [
    "pd.DataFrame(X_poly).head()"
   ]
  },
  {
   "cell_type": "code",
   "execution_count": null,
   "id": "cf7eddc6",
   "metadata": {
    "executionInfo": {
     "elapsed": 18,
     "status": "aborted",
     "timestamp": 1713891177793,
     "user": {
      "displayName": "Abu Tahim Habiby",
      "userId": "09962589792434038210"
     },
     "user_tz": -360
    },
    "id": "cf7eddc6"
   },
   "outputs": [],
   "source": [
    "xtrain, xtest, ytrain, ytest = train_test_split(X_poly, y, test_size=0.25, random_state=0)"
   ]
  },
  {
   "cell_type": "code",
   "execution_count": null,
   "id": "547feec1",
   "metadata": {
    "executionInfo": {
     "elapsed": 18,
     "status": "aborted",
     "timestamp": 1713891177793,
     "user": {
      "displayName": "Abu Tahim Habiby",
      "userId": "09962589792434038210"
     },
     "user_tz": -360
    },
    "id": "547feec1"
   },
   "outputs": [],
   "source": [
    "xtrain.shape"
   ]
  },
  {
   "cell_type": "code",
   "execution_count": null,
   "id": "462102dd",
   "metadata": {
    "executionInfo": {
     "elapsed": 18,
     "status": "aborted",
     "timestamp": 1713891177793,
     "user": {
      "displayName": "Abu Tahim Habiby",
      "userId": "09962589792434038210"
     },
     "user_tz": -360
    },
    "id": "462102dd"
   },
   "outputs": [],
   "source": [
    "model2 = LinearRegression()\n",
    "model2.fit(xtrain, ytrain)"
   ]
  },
  {
   "cell_type": "code",
   "execution_count": null,
   "id": "45568be6",
   "metadata": {
    "executionInfo": {
     "elapsed": 17,
     "status": "aborted",
     "timestamp": 1713891177793,
     "user": {
      "displayName": "Abu Tahim Habiby",
      "userId": "09962589792434038210"
     },
     "user_tz": -360
    },
    "id": "45568be6"
   },
   "outputs": [],
   "source": [
    "y_pred2 = model2.predict(xtest)"
   ]
  },
  {
   "cell_type": "code",
   "execution_count": null,
   "id": "4fb3da2a",
   "metadata": {
    "executionInfo": {
     "elapsed": 17,
     "status": "aborted",
     "timestamp": 1713891177793,
     "user": {
      "displayName": "Abu Tahim Habiby",
      "userId": "09962589792434038210"
     },
     "user_tz": -360
    },
    "id": "4fb3da2a"
   },
   "outputs": [],
   "source": [
    "y_pred2"
   ]
  },
  {
   "cell_type": "code",
   "execution_count": null,
   "id": "a439f3c4",
   "metadata": {
    "executionInfo": {
     "elapsed": 17,
     "status": "aborted",
     "timestamp": 1713891177793,
     "user": {
      "displayName": "Abu Tahim Habiby",
      "userId": "09962589792434038210"
     },
     "user_tz": -360
    },
    "id": "a439f3c4"
   },
   "outputs": [],
   "source": [
    "mse = mean_squared_error(ytest, y_pred2)\n",
    "print('MSE:', mse)"
   ]
  },
  {
   "cell_type": "code",
   "execution_count": null,
   "id": "0a15635c",
   "metadata": {
    "executionInfo": {
     "elapsed": 17,
     "status": "aborted",
     "timestamp": 1713891177793,
     "user": {
      "displayName": "Abu Tahim Habiby",
      "userId": "09962589792434038210"
     },
     "user_tz": -360
    },
    "id": "0a15635c"
   },
   "outputs": [],
   "source": [
    "model2.score(xtest, ytest) #testing score"
   ]
  },
  {
   "cell_type": "code",
   "execution_count": null,
   "id": "cdc01e34",
   "metadata": {
    "executionInfo": {
     "elapsed": 17,
     "status": "aborted",
     "timestamp": 1713891177793,
     "user": {
      "displayName": "Abu Tahim Habiby",
      "userId": "09962589792434038210"
     },
     "user_tz": -360
    },
    "id": "cdc01e34"
   },
   "outputs": [],
   "source": [
    "model2.score(xtrain, ytrain) # training score"
   ]
  },
  {
   "cell_type": "markdown",
   "id": "0ee50f2e",
   "metadata": {
    "id": "0ee50f2e"
   },
   "source": [
    "# Degree 3"
   ]
  },
  {
   "cell_type": "code",
   "execution_count": null,
   "id": "6b64f880",
   "metadata": {
    "executionInfo": {
     "elapsed": 17,
     "status": "aborted",
     "timestamp": 1713891177794,
     "user": {
      "displayName": "Abu Tahim Habiby",
      "userId": "09962589792434038210"
     },
     "user_tz": -360
    },
    "id": "6b64f880"
   },
   "outputs": [],
   "source": [
    "poly = PolynomialFeatures(degree=3) # polynomial regression with degree 2\n",
    "X_poly_deg3 = poly.fit_transform(x)"
   ]
  },
  {
   "cell_type": "code",
   "execution_count": null,
   "id": "ba3954a5",
   "metadata": {
    "executionInfo": {
     "elapsed": 17,
     "status": "aborted",
     "timestamp": 1713891177794,
     "user": {
      "displayName": "Abu Tahim Habiby",
      "userId": "09962589792434038210"
     },
     "user_tz": -360
    },
    "id": "ba3954a5"
   },
   "outputs": [],
   "source": [
    "X_poly_deg3.shape"
   ]
  },
  {
   "cell_type": "code",
   "execution_count": null,
   "id": "29e11ed5",
   "metadata": {
    "executionInfo": {
     "elapsed": 18,
     "status": "aborted",
     "timestamp": 1713891177795,
     "user": {
      "displayName": "Abu Tahim Habiby",
      "userId": "09962589792434038210"
     },
     "user_tz": -360
    },
    "id": "29e11ed5"
   },
   "outputs": [],
   "source": [
    "xtrain, xtest, ytrain, ytest = train_test_split(X_poly_deg3, y, test_size=0.25, random_state=0)"
   ]
  },
  {
   "cell_type": "code",
   "execution_count": null,
   "id": "6ff356fb",
   "metadata": {
    "executionInfo": {
     "elapsed": 18,
     "status": "aborted",
     "timestamp": 1713891177795,
     "user": {
      "displayName": "Abu Tahim Habiby",
      "userId": "09962589792434038210"
     },
     "user_tz": -360
    },
    "id": "6ff356fb"
   },
   "outputs": [],
   "source": [
    "model2 = LinearRegression()\n",
    "model2.fit(xtrain, ytrain)"
   ]
  },
  {
   "cell_type": "code",
   "execution_count": 4,
   "id": "ed2c1e88",
   "metadata": {
    "colab": {
     "base_uri": "https://localhost:8080/",
     "height": 141
    },
    "executionInfo": {
     "elapsed": 402,
     "status": "error",
     "timestamp": 1713892427936,
     "user": {
      "displayName": "Abu Tahim Habiby",
      "userId": "09962589792434038210"
     },
     "user_tz": -360
    },
    "id": "ed2c1e88",
    "outputId": "ca094e27-d82b-4000-a2c2-9daf9a4f61d3"
   },
   "outputs": [
    {
     "ename": "NameError",
     "evalue": "name 'model2' is not defined",
     "output_type": "error",
     "traceback": [
      "\u001b[0;31m---------------------------------------------------------------------------\u001b[0m",
      "\u001b[0;31mNameError\u001b[0m                                 Traceback (most recent call last)",
      "\u001b[0;32m<ipython-input-4-2f3d445750b6>\u001b[0m in \u001b[0;36m<cell line: 1>\u001b[0;34m()\u001b[0m\n\u001b[0;32m----> 1\u001b[0;31m \u001b[0mmodel2\u001b[0m\u001b[0;34m.\u001b[0m\u001b[0mscore\u001b[0m\u001b[0;34m(\u001b[0m\u001b[0mxtest\u001b[0m\u001b[0;34m,\u001b[0m \u001b[0mytest\u001b[0m\u001b[0;34m)\u001b[0m \u001b[0;31m# testing\u001b[0m\u001b[0;34m\u001b[0m\u001b[0;34m\u001b[0m\u001b[0m\n\u001b[0m",
      "\u001b[0;31mNameError\u001b[0m: name 'model2' is not defined"
     ]
    }
   ],
   "source": [
    "model2.score(xtest, ytest) # testing"
   ]
  },
  {
   "cell_type": "code",
   "execution_count": null,
   "id": "qw-gkfwA8viq",
   "metadata": {
    "id": "qw-gkfwA8viq"
   },
   "outputs": [],
   "source": []
  },
  {
   "cell_type": "code",
   "execution_count": null,
   "id": "c5b2db66",
   "metadata": {
    "executionInfo": {
     "elapsed": 17,
     "status": "aborted",
     "timestamp": 1713891177795,
     "user": {
      "displayName": "Abu Tahim Habiby",
      "userId": "09962589792434038210"
     },
     "user_tz": -360
    },
    "id": "c5b2db66"
   },
   "outputs": [],
   "source": [
    "model2.score(xtrain, ytrain) # training"
   ]
  },
  {
   "cell_type": "markdown",
   "id": "3ec20bcf",
   "metadata": {
    "id": "3ec20bcf"
   },
   "source": [
    "# Let's talk about Regularization"
   ]
  },
  {
   "cell_type": "code",
   "execution_count": 5,
   "id": "abfa29d1",
   "metadata": {
    "colab": {
     "base_uri": "https://localhost:8080/",
     "height": 159
    },
    "executionInfo": {
     "elapsed": 7,
     "status": "error",
     "timestamp": 1713892561203,
     "user": {
      "displayName": "Abu Tahim Habiby",
      "userId": "09962589792434038210"
     },
     "user_tz": -360
    },
    "id": "abfa29d1",
    "outputId": "db4f168c-6945-4052-864c-9ef9fd29a325"
   },
   "outputs": [
    {
     "ename": "NameError",
     "evalue": "name 'df' is not defined",
     "output_type": "error",
     "traceback": [
      "\u001b[0;31m---------------------------------------------------------------------------\u001b[0m",
      "\u001b[0;31mNameError\u001b[0m                                 Traceback (most recent call last)",
      "\u001b[0;32m<ipython-input-5-d3defd8c9f86>\u001b[0m in \u001b[0;36m<cell line: 1>\u001b[0;34m()\u001b[0m\n\u001b[0;32m----> 1\u001b[0;31m \u001b[0mx\u001b[0m \u001b[0;34m=\u001b[0m \u001b[0mdf\u001b[0m\u001b[0;34m.\u001b[0m\u001b[0mdrop\u001b[0m\u001b[0;34m(\u001b[0m\u001b[0;34m[\u001b[0m\u001b[0;34m'Profit'\u001b[0m\u001b[0;34m,\u001b[0m\u001b[0;34m'Area'\u001b[0m\u001b[0;34m]\u001b[0m\u001b[0;34m,\u001b[0m \u001b[0maxis\u001b[0m\u001b[0;34m=\u001b[0m\u001b[0;36m1\u001b[0m\u001b[0;34m)\u001b[0m\u001b[0;34m\u001b[0m\u001b[0;34m\u001b[0m\u001b[0m\n\u001b[0m\u001b[1;32m      2\u001b[0m \u001b[0my\u001b[0m \u001b[0;34m=\u001b[0m \u001b[0mdf\u001b[0m\u001b[0;34m[\u001b[0m\u001b[0;34m[\u001b[0m\u001b[0;34m'Profit'\u001b[0m\u001b[0;34m]\u001b[0m\u001b[0;34m]\u001b[0m\u001b[0;34m\u001b[0m\u001b[0;34m\u001b[0m\u001b[0m\n",
      "\u001b[0;31mNameError\u001b[0m: name 'df' is not defined"
     ]
    }
   ],
   "source": [
    "x = df.drop(['Profit','Area'], axis=1)\n",
    "y = df[['Profit']]"
   ]
  },
  {
   "cell_type": "code",
   "execution_count": null,
   "id": "ec3f6512",
   "metadata": {
    "executionInfo": {
     "elapsed": 18,
     "status": "aborted",
     "timestamp": 1713891177796,
     "user": {
      "displayName": "Abu Tahim Habiby",
      "userId": "09962589792434038210"
     },
     "user_tz": -360
    },
    "id": "ec3f6512"
   },
   "outputs": [],
   "source": [
    "xtrain, xtest, ytrain, ytest = train_test_split(x, y, test_size=0.25, random_state=0)"
   ]
  },
  {
   "cell_type": "code",
   "execution_count": null,
   "id": "7dff9466",
   "metadata": {
    "executionInfo": {
     "elapsed": 18,
     "status": "aborted",
     "timestamp": 1713891177796,
     "user": {
      "displayName": "Abu Tahim Habiby",
      "userId": "09962589792434038210"
     },
     "user_tz": -360
    },
    "id": "7dff9466"
   },
   "outputs": [],
   "source": [
    "xtrain.head()"
   ]
  },
  {
   "cell_type": "markdown",
   "id": "5ef33827",
   "metadata": {
    "id": "5ef33827"
   },
   "source": [
    "# L1 Regularization with LR - Lasso"
   ]
  },
  {
   "cell_type": "code",
   "execution_count": null,
   "id": "9cc79400",
   "metadata": {
    "executionInfo": {
     "elapsed": 18,
     "status": "aborted",
     "timestamp": 1713891177796,
     "user": {
      "displayName": "Abu Tahim Habiby",
      "userId": "09962589792434038210"
     },
     "user_tz": -360
    },
    "id": "9cc79400"
   },
   "outputs": [],
   "source": [
    "lasso_model = Lasso(alpha=0.1) # Tune alpha parameter\n",
    "lasso_model.fit(xtrain, ytrain)"
   ]
  },
  {
   "cell_type": "markdown",
   "id": "9d6de146",
   "metadata": {
    "id": "9d6de146"
   },
   "source": [
    "# L2 Regularization with LR - Ridge"
   ]
  },
  {
   "cell_type": "code",
   "execution_count": null,
   "id": "b1f46e76",
   "metadata": {
    "executionInfo": {
     "elapsed": 17,
     "status": "aborted",
     "timestamp": 1713891177796,
     "user": {
      "displayName": "Abu Tahim Habiby",
      "userId": "09962589792434038210"
     },
     "user_tz": -360
    },
    "id": "b1f46e76"
   },
   "outputs": [],
   "source": [
    "ridge_model = Ridge(alpha=0.1) # Tune alpha parameter\n",
    "ridge_model.fit(xtrain, ytrain)"
   ]
  },
  {
   "cell_type": "markdown",
   "id": "5ea66805",
   "metadata": {
    "id": "5ea66805"
   },
   "source": [
    "# Performance"
   ]
  },
  {
   "cell_type": "code",
   "execution_count": null,
   "id": "e61af4de",
   "metadata": {
    "executionInfo": {
     "elapsed": 17,
     "status": "aborted",
     "timestamp": 1713891177796,
     "user": {
      "displayName": "Abu Tahim Habiby",
      "userId": "09962589792434038210"
     },
     "user_tz": -360
    },
    "id": "e61af4de"
   },
   "outputs": [],
   "source": [
    "lasso_predictions = lasso_model.predict(xtest)\n",
    "lasso_mse = mean_squared_error(ytest, lasso_predictions)\n",
    "\n",
    "ridge_predictions = ridge_model.predict(xtest)\n",
    "ridge_mse = mean_squared_error(ytest, ridge_predictions)\n",
    "\n",
    "print('Lasso MSE:', lasso_mse)\n",
    "print('Ridge MSE:', ridge_mse)"
   ]
  },
  {
   "cell_type": "code",
   "execution_count": null,
   "id": "abd499ac",
   "metadata": {
    "executionInfo": {
     "elapsed": 17,
     "status": "aborted",
     "timestamp": 1713891177796,
     "user": {
      "displayName": "Abu Tahim Habiby",
      "userId": "09962589792434038210"
     },
     "user_tz": -360
    },
    "id": "abd499ac"
   },
   "outputs": [],
   "source": [
    "lasso_model.score(xtest, ytest)"
   ]
  },
  {
   "cell_type": "code",
   "execution_count": null,
   "id": "49565566",
   "metadata": {
    "executionInfo": {
     "elapsed": 18,
     "status": "aborted",
     "timestamp": 1713891177797,
     "user": {
      "displayName": "Abu Tahim Habiby",
      "userId": "09962589792434038210"
     },
     "user_tz": -360
    },
    "id": "49565566"
   },
   "outputs": [],
   "source": [
    "ridge_model.score(xtest, ytest)"
   ]
  },
  {
   "cell_type": "code",
   "execution_count": null,
   "id": "bb22881c",
   "metadata": {
    "executionInfo": {
     "elapsed": 18,
     "status": "aborted",
     "timestamp": 1713891177797,
     "user": {
      "displayName": "Abu Tahim Habiby",
      "userId": "09962589792434038210"
     },
     "user_tz": -360
    },
    "id": "bb22881c"
   },
   "outputs": [],
   "source": []
  }
 ],
 "metadata": {
  "colab": {
   "provenance": []
  },
  "kernelspec": {
   "display_name": "Python 3 (ipykernel)",
   "language": "python",
   "name": "python3"
  },
  "language_info": {
   "codemirror_mode": {
    "name": "ipython",
    "version": 3
   },
   "file_extension": ".py",
   "mimetype": "text/x-python",
   "name": "python",
   "nbconvert_exporter": "python",
   "pygments_lexer": "ipython3",
   "version": "3.9.13"
  }
 },
 "nbformat": 4,
 "nbformat_minor": 5
}
